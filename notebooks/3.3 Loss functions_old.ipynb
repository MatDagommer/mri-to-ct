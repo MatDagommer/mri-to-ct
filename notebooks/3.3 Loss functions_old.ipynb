{
 "cells": [
  {
   "cell_type": "markdown",
   "id": "bbe5ea04",
   "metadata": {},
   "source": [
    "## Results: Loss functions"
   ]
  },
  {
   "cell_type": "code",
   "execution_count": null,
   "id": "3ecdbdd7",
   "metadata": {},
   "outputs": [],
   "source": [
    "import sys\n",
    "sys.path.append(\"C:/Users/matth/Documents/Martinos Center/mrtoct\") \n",
    "\n",
    "import matplotlib.pyplot as plt\n",
    "import matplotlib as mpl\n",
    "import matplotlib.colors as colors\n",
    "import matplotlib.cm as cm\n",
    "import utils.test_utils as utils\n",
    "import os\n",
    "import pickle\n",
    "import numpy as np\n",
    "import gc"
   ]
  },
  {
   "cell_type": "code",
   "execution_count": null,
   "id": "b7363d09",
   "metadata": {},
   "outputs": [],
   "source": [
    "path_model = \"C:/Users/matth/Documents/Martinos Center/Models/DeepBrain/\"\n",
    "path_dataset = \"C:/Users/matth/Documents/Martinos Center/mrtoct/datasets/\""
   ]
  },
  {
   "cell_type": "markdown",
   "id": "95f507b7",
   "metadata": {},
   "source": [
    "### Python commands"
   ]
  },
  {
   "cell_type": "markdown",
   "id": "9e17f780",
   "metadata": {},
   "source": [
    "Run these lines in the command prompt to generate the dataset and train models.\n",
    "\n",
    "##### Preprocessing:\n",
    "\n",
    "* <font color = blue>python preprocessing.py --dataset ctmask_nosqrt --no_sqrt --tanh --mask_opt 1</font>\n",
    "\n",
    "##### Training: \n",
    "        \n",
    "* <font color = blue>python train.py --dataset all_mask_sqrt --name ctmask --n_epochs 30</font>\n",
    "* <font color = blue>python train.py --dataset all_mask_sqrt --name ctmask_gdl --gdl --n_epochs 30</font>\n",
    "* <font color = blue>python train.py --dataset all_mask_sqrt --name ctmask_l2 --loss_metric mse --n_epochs 30</font>\n",
    "* <font color = blue>python train.py --dataset all_mask_sqrt --name ctmask_l2_gdl --loss_metric mse --gdl --n_epochs 30</font>\n",
    "* <font color = blue>python train.py --dataset all_mask_sqrt --name ctmask_l1_l2 --l1_l2 --n_epochs 30</font>\n",
    "* <font color = blue>python train.py --dataset all_mask_sqrt --name ctmask_l1_l2_gdl --l1_l2 --gdl --n_epochs 30</font>\n",
    "* <font color = blue>python train.py --dataset all_mask_sqrt --name ctmask_perceptual --perceptual_loss --n_epochs 30</font>"
   ]
  },
  {
   "cell_type": "markdown",
   "id": "558488b3",
   "metadata": {},
   "source": [
    "##### Load data"
   ]
  },
  {
   "cell_type": "code",
   "execution_count": null,
   "id": "0fc19337",
   "metadata": {},
   "outputs": [],
   "source": [
    "model_names = [\"default_30epochs\", \"pct_30epochs\", \"resnet9_pct_30epochs\", \"resnet9_30epochs\"]\n",
    "models, outputs = utils.retrieve_models(model_names, path_model)\n",
    "trains, vals, bevels, begens, begts = utils.retrieve_history(outputs)"
   ]
  },
  {
   "cell_type": "markdown",
   "id": "d5af6e92",
   "metadata": {},
   "source": [
    "##### Plot"
   ]
  },
  {
   "cell_type": "code",
   "execution_count": null,
   "id": "7e63afb1",
   "metadata": {},
   "outputs": [],
   "source": [
    "fig, ax = plt.subplots(figsize = (12,10))\n",
    "x = np.linspace(0, 30, len(train1))\n",
    "\n",
    "ax.plot(x, val1, 'r', label = 'L1', linewidth = 3)\n",
    "ax.plot(x, val2, 'b', label = 'L1/GDL', linewidth = 3)\n",
    "ax.plot(x, val3, 'k', label = 'L1/L2', linewidth = 3)\n",
    "ax.plot(x, val4, 'g', label = 'L1/L2/GDL', linewidth = 3)\n",
    "ax.plot(x, val5, color = 'deepskyblue', label = 'L1/Perceptual', linewidth = 3)\n",
    "\n",
    "ax.set_xlabel(\"Epochs\", fontsize = 25)\n",
    "ax.set_ylabel(\"Mean Absolute Error (MAE)\", fontsize = 25)\n",
    "\n",
    "ax.set_ylim([0, max(train1 + val1 + train2 + val2)])\n",
    "ax.tick_params(axis='both', which='major', labelsize=25)\n",
    "ax.set_ylim([0.05, 0.280])\n",
    "ax.set_xlim([0, 30])\n",
    "ax.legend(fontsize = 25, loc = 'upper right')\n",
    "ax.grid('on')"
   ]
  },
  {
   "cell_type": "markdown",
   "id": "fae45b50",
   "metadata": {},
   "source": [
    "##### Metrics"
   ]
  },
  {
   "cell_type": "code",
   "execution_count": null,
   "id": "c5deb562",
   "metadata": {},
   "outputs": [],
   "source": []
  },
  {
   "cell_type": "code",
   "execution_count": null,
   "id": "cfd59d8c",
   "metadata": {},
   "outputs": [],
   "source": [
    "fig, ax = plt.subplots(figsize = (10, 5))\n",
    "\n",
    "labels_sorted = [x for _, x in sorted(zip(MAE, model_names), reverse = True)]\n",
    "MAE_sorted = sorted(MAE, reverse = True)\n",
    "\n",
    "for i in range(len(MAE_sorted)):\n",
    "    ax.text(s = \"%.4f\" %MAE_sorted[i], y = MAE_sorted[i] + 0.005, x=i - 0.3, fontsize=20)\n",
    "    \n",
    "X_axis = np.arange(len(MAE_sorted))\n",
    "  \n",
    "ax.bar(X_axis, MAE_sorted, width = 0.6)\n",
    "\n",
    "ax.tick_params(axis='both', which='major', labelsize=20)\n",
    "ax.set_xticks(X_axis, labels_sorted)\n",
    "#ax.set_xlabel(\"Models\", fontsize = 20)\n",
    "ax.set_ylabel(\"Mean Absolute Error\\n(MAE)\", fontsize = 25)\n",
    "ax.set_title(\"Best Performance (after 30 epochs)\", fontsize = 30)\n",
    "ax.set_ylim([0, 0.15])\n",
    "\n",
    "os.chdir(\"C:/Users/matth/Documents/Martinos Center/ISMRM presentation/\")\n",
    "plt.savefig(\"Losses_barplot.svg\", bbox_inches = 'tight')\n",
    "plt.show()"
   ]
  }
 ],
 "metadata": {
  "kernelspec": {
   "display_name": "Python [conda env:martinos]",
   "language": "python",
   "name": "conda-env-martinos-py"
  },
  "language_info": {
   "codemirror_mode": {
    "name": "ipython",
    "version": 3
   },
   "file_extension": ".py",
   "mimetype": "text/x-python",
   "name": "python",
   "nbconvert_exporter": "python",
   "pygments_lexer": "ipython3",
   "version": "3.9.12"
  }
 },
 "nbformat": 4,
 "nbformat_minor": 5
}
