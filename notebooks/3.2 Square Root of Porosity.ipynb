{
 "cells": [
  {
   "cell_type": "markdown",
   "id": "a67e803f",
   "metadata": {},
   "source": [
    "## Results: Fine-tuning training parameters"
   ]
  },
  {
   "cell_type": "code",
   "execution_count": 1,
   "id": "6159ea31",
   "metadata": {},
   "outputs": [],
   "source": [
    "import sys\n",
    "sys.path.append(\"C:/Users/matth/Documents/Martinos Center/mrtoct\") \n",
    "\n",
    "import matplotlib.pyplot as plt\n",
    "import matplotlib as mpl\n",
    "import matplotlib.colors as colors\n",
    "import matplotlib.cm as cm\n",
    "import utils.test_utils as utils\n",
    "import os\n",
    "import pickle\n",
    "import numpy as np\n",
    "import gc\n",
    "import pandas as pd"
   ]
  },
  {
   "cell_type": "code",
   "execution_count": 2,
   "id": "18f3288f",
   "metadata": {},
   "outputs": [],
   "source": [
    "path_model = \"C:/Users/matth/Documents/Martinos Center/Models/DeepBrain/\"\n",
    "path_dataset = \"C:/Users/matth/Documents/Martinos Center/mrtoct/datasets/\""
   ]
  },
  {
   "cell_type": "markdown",
   "id": "5de55889",
   "metadata": {},
   "source": [
    "### Python commands"
   ]
  },
  {
   "cell_type": "markdown",
   "id": "0fad3f11",
   "metadata": {},
   "source": [
    "Run these lines in the command prompt to generate the dataset and train models.\n",
    "\n",
    "##### Preprocessing:\n",
    "\n",
    "* <font color = blue>python preprocessing.py --dataset ctmask_sqrt --mask_opt 1</font>\n",
    "* <font color = blue>python preprocessing.py --dataset ctmask_nosqrt --mask_opt 1 --no_sqrt</font>\n",
    "\n",
    "##### Training: \n",
    "\n",
    "* <font color = blue>python train.py --dataset ctmask_sqrt --name ctmask_sqrt --tanh --n_epochs 30</font>\n",
    "* <font color = blue>python train.py --dataset ctmask_nosqrt --name ctmask --tanh --n_epochs 30</font>\n"
   ]
  },
  {
   "cell_type": "markdown",
   "id": "a30226f4",
   "metadata": {},
   "source": [
    "##### Retrieve data"
   ]
  },
  {
   "cell_type": "raw",
   "id": "cb21fc46",
   "metadata": {},
   "source": [
    "model_names = [\"nsub1\", \"nsub3\", \"nsub6\", \"nsub9\", \"default\"]\n",
    "models, outputs = utils.retrieve_models(model_names, path_model)\n",
    "trains, vals, bevels, begens, begts = utils.retrieve_history(outputs)"
   ]
  },
  {
   "cell_type": "raw",
   "id": "af200954",
   "metadata": {},
   "source": [
    "steps_per_epo = [23,70,141,212,307]\n",
    "n_epo = [180, 60, 30, 20, 15]\n",
    "total_samples = [20*steps_per_epo[i]*n_epo[i] for i in range(len(steps_per_epo))]\n",
    "nb_intervals = [10 * n_epo[i] for i in range(len(n_epo))]\n",
    "nb_points = [10 * n_epo[i] + 1 for i in range(len(n_epo))]\n",
    "sample_plot_freq = [int(total_samples[i] / nb_intervals[i]) for i in range(len(n_epo))]"
   ]
  },
  {
   "cell_type": "markdown",
   "id": "52ff213e",
   "metadata": {},
   "source": [
    "##### Plot"
   ]
  },
  {
   "cell_type": "raw",
   "id": "f04871ff",
   "metadata": {},
   "source": [
    "labels = [\"1 Subject\", \"3 Subjects\", \"6 Subjects\", \"9 Subjects\", \"13 Subjects (Default)\"]\n",
    "title = \"Influence of the size of the dataset (number of subjects),\\nvalidation curves\"\n",
    "\n",
    "fig, ax = plt.subplots(figsize = (14,8))\n",
    "    \n",
    "for i in range(len(vals)):\n",
    "    x = np.linspace(0, total_samples[i], nb_points[i])\n",
    "    ax.plot(x, vals[i], label = \"{}\".format(labels[i]))\n",
    "    \n",
    "ax.set_title(title, fontsize = 25)\n",
    "ax.set_xlabel(\"Number of processed samples\", fontsize = 22)\n",
    "ax.set_ylabel(\"MAE\", fontsize = 22)\n",
    "ax.tick_params(axis='both', which='major', labelsize=18)\n",
    "ax.set_ylim([0.08, 0.200])\n",
    "ax.set_xlim([0, 80000]) \n",
    "ax.legend(fontsize = 22, loc = 'lower left')\n",
    "ax.grid('on')\n"
   ]
  },
  {
   "cell_type": "raw",
   "id": "47ffb460",
   "metadata": {},
   "source": [
    "best_mae = []\n",
    "\n",
    "for i in range(len(n_epo)):\n",
    "    model_info = pickle.load(open(path_model + model_names[i] + '/' + model_names[i] + \"_info\", 'rb'))\n",
    "    best_mae.append(model_info[\"best_epoch_mae\"])\n",
    "\n",
    "x = [1, 3, 6, 9, 13]\n",
    "\n",
    "fig, ax = plt.subplots(figsize=(10,6))\n",
    "ax.plot(x, best_mae, 'r', linewidth = 4)\n",
    "ax.plot(x, best_mae, 'kx', markersize = 12, mew = 4)\n",
    "ax.set_title(\"MAE at best epoch with different\\ntraining set sizes\", fontsize = 25)\n",
    "ax.set_ylabel(\"MAE\", fontsize = 20)\n",
    "ax.set_xlabel(\"Size of training set (Subjects)\", fontsize= 20)\n",
    "ax.tick_params(labelsize=15)\n",
    "ax.grid('on')"
   ]
  },
  {
   "cell_type": "markdown",
   "id": "61aca7ec",
   "metadata": {},
   "source": [
    "##### Metrics"
   ]
  },
  {
   "cell_type": "raw",
   "id": "c19b6153",
   "metadata": {},
   "source": [
    "dataset = np.load(path_dataset + \"all_mask_sqrt\" + \"/valid_eval.npz\")\n",
    "metrics = utils.compute_val_metrics(models, model_names, dataset, bevels, begens, begts)\n",
    "metrics"
   ]
  },
  {
   "cell_type": "markdown",
   "id": "a14a8af8",
   "metadata": {},
   "source": [
    "## 3.1.2 Square Root of Porosity"
   ]
  },
  {
   "cell_type": "markdown",
   "id": "665bd94f",
   "metadata": {},
   "source": [
    "### Python commands"
   ]
  },
  {
   "cell_type": "raw",
   "id": "6784222c",
   "metadata": {},
   "source": [
    "Run these lines in the command prompt to generate the dataset and train models.\n",
    "\n",
    "##### Preprocessing:\n",
    "\n",
    "* <font color = blue>python preprocessing.py --dataset all_mask_sqrt</font>\n",
    "* <font color = blue>python preprocessing.py --dataset all_mask_nosqrt --no_sqrt </font>\n",
    "\n",
    "##### Training: \n",
    "    \n",
    "* <font color = blue>python train.py --dataset all_mask_sqrt --name default_45epochs --n_epocbs 45</font>\n",
    "* <font color = blue>python train.py --dataset all_mask_nosqrt --name no_sqrt_45epochs --n_epochs 45</font>"
   ]
  },
  {
   "cell_type": "markdown",
   "id": "26c43fb1",
   "metadata": {},
   "source": [
    "##### Retrieve data"
   ]
  },
  {
   "cell_type": "raw",
   "id": "431b2fc8",
   "metadata": {},
   "source": [
    "del models, outputs\n",
    "gc.collect"
   ]
  },
  {
   "cell_type": "code",
   "execution_count": 3,
   "id": "307d3d4e",
   "metadata": {},
   "outputs": [],
   "source": [
    "model_names = [\"ctmask\", \"ctmask_sqrt\"]\n",
    "models, outputs = utils.retrieve_models(model_names, path_model)\n",
    "trains, vals, bevels, begens, begts = utils.retrieve_history(outputs)"
   ]
  },
  {
   "cell_type": "markdown",
   "id": "19b4e5ac",
   "metadata": {},
   "source": [
    "##### Plot"
   ]
  },
  {
   "cell_type": "code",
   "execution_count": 4,
   "id": "0083ace4",
   "metadata": {},
   "outputs": [
    {
     "data": {
      "image/png": "[encoded data removed]",
      "text/plain": [
       "<Figure size 720x504 with 1 Axes>"
      ]
     },
     "metadata": {
      "needs_background": "light"
     },
     "output_type": "display_data"
    }
   ],
   "source": [
    "fig, ax = plt.subplots(figsize = (10,7))\n",
    "x = np.linspace(0, 30, len(trains[0]))\n",
    "\n",
    "ax.plot(x, [val for val in vals[0]], 'r', label = '$Porosity$ (validation)', linewidth = 3)\n",
    "ax.plot(x, vals[1], 'b', label = '$\\sqrt{Porosity}$ (validation)', linewidth = 3)\n",
    "ax.set_xlabel(\"Epochs\", fontsize = 22)\n",
    "ax.set_ylabel(\"Mean Absolute Error (MAE)\", fontsize = 22)\n",
    "\n",
    "ax.tick_params(axis='both', which='major', labelsize=18)\n",
    "ax.set_ylim([0.08, 0.180])\n",
    "ax.set_xlim([0, 45])\n",
    "ax.legend(fontsize = 22, loc = 'upper right')\n",
    "ax.grid('on')"
   ]
  },
  {
   "cell_type": "code",
   "execution_count": 5,
   "id": "60bdfe27",
   "metadata": {},
   "outputs": [
    {
     "name": "stdout",
     "output_type": "stream",
     "text": [
      "0.18627128158634726\n",
      "0.0943692719392044\n"
     ]
    }
   ],
   "source": [
    "xx = [val*2 for val in vals[0]]\n",
    "print(np.min(xx))\n",
    "print(np.min(vals[1]))"
   ]
  },
  {
   "cell_type": "code",
   "execution_count": 6,
   "id": "6eeedefc",
   "metadata": {},
   "outputs": [
    {
     "data": {
      "image/png": "[encoded data removed]",
      "text/plain": [
       "<Figure size 432x288 with 1 Axes>"
      ]
     },
     "metadata": {
      "needs_background": "light"
     },
     "output_type": "display_data"
    }
   ],
   "source": [
    "maes = np.array(np.abs(bevels[0]))\n",
    "_ = plt.hist(maes, bins = 100)"
   ]
  },
  {
   "cell_type": "markdown",
   "id": "c87b2aac",
   "metadata": {},
   "source": [
    "##### Metrics"
   ]
  },
  {
   "cell_type": "code",
   "execution_count": 7,
   "id": "506c4a8e",
   "metadata": {
    "scrolled": true
   },
   "outputs": [
    {
     "name": "stderr",
     "output_type": "stream",
     "text": [
      "100%|████████████████████████████████████████████████████████████████████████████████████| 2/2 [02:09<00:00, 64.52s/it]\n"
     ]
    },
    {
     "data": {
      "text/html": [
       "<div>\n",
       "<style scoped>\n",
       "    .dataframe tbody tr th:only-of-type {\n",
       "        vertical-align: middle;\n",
       "    }\n",
       "\n",
       "    .dataframe tbody tr th {\n",
       "        vertical-align: top;\n",
       "    }\n",
       "\n",
       "    .dataframe thead th {\n",
       "        text-align: right;\n",
       "    }\n",
       "</style>\n",
       "<table border=\"1\" class=\"dataframe\">\n",
       "  <thead>\n",
       "    <tr style=\"text-align: right;\">\n",
       "      <th></th>\n",
       "      <th>MAE</th>\n",
       "      <th>$\\sigma_{MAE}$</th>\n",
       "      <th>MSE</th>\n",
       "      <th>$\\sigma_{MSE}$</th>\n",
       "      <th>PSNR</th>\n",
       "      <th>$\\sigma_{PSNR}$</th>\n",
       "      <th>SSIM</th>\n",
       "      <th>$\\sigma_{SSIM}$</th>\n",
       "    </tr>\n",
       "    <tr>\n",
       "      <th></th>\n",
       "      <th></th>\n",
       "      <th></th>\n",
       "      <th></th>\n",
       "      <th></th>\n",
       "      <th></th>\n",
       "      <th></th>\n",
       "      <th></th>\n",
       "      <th></th>\n",
       "    </tr>\n",
       "  </thead>\n",
       "  <tbody>\n",
       "    <tr>\n",
       "      <th>ctmask</th>\n",
       "      <td>0.0931</td>\n",
       "      <td>0.0279</td>\n",
       "      <td>0.0345</td>\n",
       "      <td>0.0017</td>\n",
       "      <td>33.6613</td>\n",
       "      <td>5.8422</td>\n",
       "      <td>0.9655</td>\n",
       "      <td>0.0131</td>\n",
       "    </tr>\n",
       "    <tr>\n",
       "      <th>ctmask_sqrt</th>\n",
       "      <td>0.0944</td>\n",
       "      <td>0.0258</td>\n",
       "      <td>0.0336</td>\n",
       "      <td>0.0013</td>\n",
       "      <td>33.9403</td>\n",
       "      <td>5.3896</td>\n",
       "      <td>0.9665</td>\n",
       "      <td>0.0114</td>\n",
       "    </tr>\n",
       "  </tbody>\n",
       "</table>\n",
       "</div>"
      ],
      "text/plain": [
       "               MAE  $\\sigma_{MAE}$    MSE  $\\sigma_{MSE}$    PSNR  \\\n",
       "                                                                    \n",
       "ctmask      0.0931          0.0279 0.0345          0.0017 33.6613   \n",
       "ctmask_sqrt 0.0944          0.0258 0.0336          0.0013 33.9403   \n",
       "\n",
       "             $\\sigma_{PSNR}$   SSIM  $\\sigma_{SSIM}$  \n",
       "                                                      \n",
       "ctmask                5.8422 0.9655           0.0131  \n",
       "ctmask_sqrt           5.3896 0.9665           0.0114  "
      ]
     },
     "execution_count": 7,
     "metadata": {},
     "output_type": "execute_result"
    }
   ],
   "source": [
    "dataset_1 = np.load(path_dataset + \"ctmask_nosqrt\" + \"/valid_eval.npz\")\n",
    "dataset_2 = np.load(path_dataset + \"ctmask_sqrt\" + \"/valid_eval.npz\")\n",
    "datasets = [dataset_1, dataset_2]\n",
    "\n",
    "metrics = utils.compute_val_metrics(models, model_names, datasets, bevels, begens, begts)\n",
    "metrics"
   ]
  },
  {
   "cell_type": "code",
   "execution_count": 8,
   "id": "540912df",
   "metadata": {},
   "outputs": [
    {
     "data": {
      "text/plain": [
       "<matplotlib.image.AxesImage at 0x1dfcf031700>"
      ]
     },
     "execution_count": 8,
     "metadata": {},
     "output_type": "execute_result"
    },
    {
     "data": {
      "image/png": "[encoded data removed]",
      "text/plain": [
       "<Figure size 720x720 with 3 Axes>"
      ]
     },
     "metadata": {
      "needs_background": "light"
     },
     "output_type": "display_data"
    }
   ],
   "source": [
    "fig, ax = plt.subplots(1,3, figsize = (10,10))\n",
    "\n",
    "source = dataset_1[\"x\"][0:1]\n",
    "target = dataset_1[\"y\"][0:1]\n",
    "mask = dataset_1[\"m\"][0:1]\n",
    "pred1 = models[0].predict(source)\n",
    "pred2 = models[1].predict(source) ** 2\n",
    "\n",
    "ax[0].imshow( (pred1[0,:,:,0] - 1) * mask[0,:,:,0] + 1)\n",
    "ax[1].imshow( (pred2[0,:,:,0] - 1) * mask[0,:,:,0] + 1)\n",
    "ax[2].imshow(target[0,:,:,0])"
   ]
  },
  {
   "cell_type": "code",
   "execution_count": 9,
   "id": "4f980cb5",
   "metadata": {},
   "outputs": [
    {
     "name": "stdout",
     "output_type": "stream",
     "text": [
      "0.5286893755805215\n",
      "0.3577348126786235\n"
     ]
    }
   ],
   "source": [
    "print((np.abs(pred1 - target)).flatten().mean())\n",
    "print((np.abs(pred2 - target)).flatten().mean())"
   ]
  },
  {
   "cell_type": "markdown",
   "id": "adb523a9",
   "metadata": {},
   "source": [
    "## 3.1.3 Data augmentation"
   ]
  },
  {
   "cell_type": "raw",
   "id": "f7b8c536",
   "metadata": {},
   "source": [
    "Run these lines in the command prompt to generate the dataset and train models.\n",
    "\n",
    "##### Preprocessing:\n",
    "\n",
    "<font color = blue>python preprocessing.py --dataset all_mask_sqrt </font>\n",
    "\n",
    "##### Training: \n",
    "    \n",
    "* <font color = blue>python train.py --dataset all_mask_sqrt --name to --to</font>\n",
    "* <font color = blue>python train.py --dataset all_mask_sqrt --name to_noflip --to --no_flip</font>"
   ]
  },
  {
   "cell_type": "raw",
   "id": "696beae8",
   "metadata": {},
   "source": [
    "##### Retrieve data"
   ]
  },
  {
   "cell_type": "raw",
   "id": "2e5abf9c",
   "metadata": {},
   "source": [
    "del models, outputs\n",
    "gc.collect"
   ]
  },
  {
   "cell_type": "raw",
   "id": "7d01d8bc",
   "metadata": {},
   "source": [
    "model_names = [\"default\", \"to\", \"to_noflip\"]\n",
    "models, outputs = utils.retrieve_models(model_names, path_model)\n",
    "trains, vals, bevels, begens, begts = utils.retrieve_history(outputs)"
   ]
  },
  {
   "cell_type": "raw",
   "id": "14783a7e",
   "metadata": {},
   "source": [
    "##### Plot"
   ]
  },
  {
   "cell_type": "raw",
   "id": "0bb804cd",
   "metadata": {},
   "source": [
    "labels = [\"All Orientations/With Flip\",\"Transverse Orientation/With Flip\", \"Transverse Orientation/No Flip\"]\n",
    "\n",
    "fig, ax = plt.subplots(figsize = (12,8))\n",
    "    \n",
    "for i in range(len(vals)):\n",
    "    x = np.linspace(0, 15, len(trains[i]))\n",
    "    ax.plot(x, vals[i], label = \"{}\".format(labels[i]), linewidth = 3)\n",
    "\n",
    "ax.set_xlabel(\"Epochs\", fontsize = 22)\n",
    "ax.set_ylabel(\"Mean absolute error (MAE)\", fontsize = 22)\n",
    "\n",
    "ax.tick_params(axis='both', which='major', labelsize=18)\n",
    "ax.set_ylim([0.1, 0.200])\n",
    "ax.set_xlim([0, 15])\n",
    "      \n",
    "ax.grid(\"on\")\n",
    "    \n",
    "colormap = cm.get_cmap(\"Set1\") # https://matplotlib.org/3.1.0/tutorials/colors/colormaps.html\n",
    "ax = plt.gca()\n",
    "lines = ax.lines\n",
    "N = len(lines)\n",
    "    \n",
    "for n in range(0, N):\n",
    "    random_color = colormap(n)\n",
    "    lines[n].set_color(random_color)\n",
    "\n",
    "ax.legend(fontsize = 20, loc = 'upper right')"
   ]
  },
  {
   "cell_type": "raw",
   "id": "04c1f54d",
   "metadata": {},
   "source": [
    "##### Metrics"
   ]
  },
  {
   "cell_type": "raw",
   "id": "c2067145",
   "metadata": {},
   "source": [
    "dataset_1 = np.load(path_dataset + \"all_mask_sqrt\" + \"/valid_eval.npz\")\n",
    "metrics = utils.compute_val_metrics(models, model_names, dataset_1, bevels, begens, begts)\n",
    "metrics"
   ]
  },
  {
   "cell_type": "raw",
   "id": "50649c6f",
   "metadata": {},
   "source": []
  },
  {
   "cell_type": "code",
   "execution_count": null,
   "id": "e50dc9bb",
   "metadata": {},
   "outputs": [],
   "source": []
  }
 ],
 "metadata": {
  "kernelspec": {
   "display_name": "Python [conda env:martinos]",
   "language": "python",
   "name": "conda-env-martinos-py"
  },
  "language_info": {
   "codemirror_mode": {
    "name": "ipython",
    "version": 3
   },
   "file_extension": ".py",
   "mimetype": "text/x-python",
   "name": "python",
   "nbconvert_exporter": "python",
   "pygments_lexer": "ipython3",
   "version": "3.9.12"
  }
 },
 "nbformat": 4,
 "nbformat_minor": 5
}
