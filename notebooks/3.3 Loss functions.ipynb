{
 "cells": [
  {
   "cell_type": "markdown",
   "id": "bbe5ea04",
   "metadata": {},
   "source": [
    "## Results: Loss functions"
   ]
  },
  {
   "cell_type": "code",
   "execution_count": 1,
   "id": "3ecdbdd7",
   "metadata": {},
   "outputs": [],
   "source": [
    "import sys\n",
    "sys.path.append(\"C:/Users/matth/Documents/Martinos Center/mrtoct\") \n",
    "\n",
    "import matplotlib.pyplot as plt\n",
    "import matplotlib as mpl\n",
    "import matplotlib.colors as colors\n",
    "import matplotlib.cm as cm\n",
    "import utils.test_utils as utils\n",
    "import os\n",
    "import pickle\n",
    "import numpy as np\n",
    "import gc"
   ]
  },
  {
   "cell_type": "code",
   "execution_count": 2,
   "id": "b7363d09",
   "metadata": {},
   "outputs": [],
   "source": [
    "path_model = \"C:/Users/matth/Documents/Martinos Center/Models/DeepBrain/\"\n",
    "path_dataset = \"C:/Users/matth/Documents/Martinos Center/mrtoct/datasets/\""
   ]
  },
  {
   "cell_type": "markdown",
   "id": "95f507b7",
   "metadata": {},
   "source": [
    "### Python commands"
   ]
  },
  {
   "cell_type": "markdown",
   "id": "9e17f780",
   "metadata": {},
   "source": [
    "Run these lines in the command prompt to generate the dataset and train models.\n",
    "\n",
    "##### Preprocessing:\n",
    "\n",
    "* <font color = blue>python preprocessing.py --dataset ctmask_nosqrt --no_sqrt --tanh --mask_opt 1</font>\n",
    "\n",
    "##### Training: \n",
    "        \n",
    "* <font color = blue>python train.py --dataset all_mask_sqrt --name ctmask --n_epochs 30</font>\n",
    "* <font color = blue>python train.py --dataset all_mask_sqrt --name ctmask_gdl --gdl --n_epochs 30</font>\n",
    "* <font color = blue>python train.py --dataset all_mask_sqrt --name ctmask_l2 --loss_metric mse --n_epochs 30</font>\n",
    "* <font color = blue>python train.py --dataset all_mask_sqrt --name ctmask_l2_gdl --loss_metric mse --gdl --n_epochs 30</font>\n",
    "* <font color = blue>python train.py --dataset all_mask_sqrt --name ctmask_l1_l2 --l1_l2 --n_epochs 30</font>\n",
    "* <font color = blue>python train.py --dataset all_mask_sqrt --name ctmask_l1_l2_gdl --l1_l2 --gdl --n_epochs 30</font>\n",
    "* <font color = blue>python train.py --dataset all_mask_sqrt --name ctmask_perceptual --perceptual_loss --n_epochs 30</font>"
   ]
  },
  {
   "cell_type": "markdown",
   "id": "558488b3",
   "metadata": {},
   "source": [
    "##### Load data"
   ]
  },
  {
   "cell_type": "code",
   "execution_count": 3,
   "id": "0102acb4",
   "metadata": {},
   "outputs": [],
   "source": [
    "model_names = [\"ctmask\", \"ctmask_gdl\", \"ctmask_l2\", \"ctmask_l2_gdl\"]\n",
    "models, outputs = utils.retrieve_models(model_names, path_model)\n",
    "trains, vals, bevels, begens, begts = utils.retrieve_history(outputs)"
   ]
  },
  {
   "cell_type": "markdown",
   "id": "4ce2ead1",
   "metadata": {},
   "source": [
    "##### Metrics"
   ]
  },
  {
   "cell_type": "code",
   "execution_count": 4,
   "id": "c5deb562",
   "metadata": {},
   "outputs": [
    {
     "name": "stderr",
     "output_type": "stream",
     "text": [
      "100%|████████████████████████████████████████████████████████████████████████████████████| 4/4 [04:22<00:00, 65.51s/it]\n"
     ]
    },
    {
     "data": {
      "text/html": [
       "<div>\n",
       "<style scoped>\n",
       "    .dataframe tbody tr th:only-of-type {\n",
       "        vertical-align: middle;\n",
       "    }\n",
       "\n",
       "    .dataframe tbody tr th {\n",
       "        vertical-align: top;\n",
       "    }\n",
       "\n",
       "    .dataframe thead th {\n",
       "        text-align: right;\n",
       "    }\n",
       "</style>\n",
       "<table border=\"1\" class=\"dataframe\">\n",
       "  <thead>\n",
       "    <tr style=\"text-align: right;\">\n",
       "      <th></th>\n",
       "      <th>MAE</th>\n",
       "      <th>$\\sigma_{MAE}$</th>\n",
       "      <th>MSE</th>\n",
       "      <th>$\\sigma_{MSE}$</th>\n",
       "      <th>PSNR</th>\n",
       "      <th>$\\sigma_{PSNR}$</th>\n",
       "      <th>SSIM</th>\n",
       "      <th>$\\sigma_{SSIM}$</th>\n",
       "    </tr>\n",
       "    <tr>\n",
       "      <th></th>\n",
       "      <th></th>\n",
       "      <th></th>\n",
       "      <th></th>\n",
       "      <th></th>\n",
       "      <th></th>\n",
       "      <th></th>\n",
       "      <th></th>\n",
       "      <th></th>\n",
       "    </tr>\n",
       "  </thead>\n",
       "  <tbody>\n",
       "    <tr>\n",
       "      <th>ctmask</th>\n",
       "      <td>0.0931</td>\n",
       "      <td>0.0279</td>\n",
       "      <td>0.0345</td>\n",
       "      <td>0.0017</td>\n",
       "      <td>33.6613</td>\n",
       "      <td>5.8422</td>\n",
       "      <td>0.9656</td>\n",
       "      <td>0.0131</td>\n",
       "    </tr>\n",
       "    <tr>\n",
       "      <th>ctmask_gdl</th>\n",
       "      <td>0.0933</td>\n",
       "      <td>0.0260</td>\n",
       "      <td>0.0327</td>\n",
       "      <td>0.0012</td>\n",
       "      <td>34.2013</td>\n",
       "      <td>5.5504</td>\n",
       "      <td>0.9618</td>\n",
       "      <td>0.0135</td>\n",
       "    </tr>\n",
       "    <tr>\n",
       "      <th>ctmask_l2</th>\n",
       "      <td>0.0954</td>\n",
       "      <td>0.0246</td>\n",
       "      <td>0.0318</td>\n",
       "      <td>0.0010</td>\n",
       "      <td>34.4802</td>\n",
       "      <td>5.3421</td>\n",
       "      <td>0.9647</td>\n",
       "      <td>0.0127</td>\n",
       "    </tr>\n",
       "    <tr>\n",
       "      <th>ctmask_l2_gdl</th>\n",
       "      <td>0.0956</td>\n",
       "      <td>0.0255</td>\n",
       "      <td>0.0321</td>\n",
       "      <td>0.0011</td>\n",
       "      <td>34.3947</td>\n",
       "      <td>5.4117</td>\n",
       "      <td>0.9619</td>\n",
       "      <td>0.0138</td>\n",
       "    </tr>\n",
       "  </tbody>\n",
       "</table>\n",
       "</div>"
      ],
      "text/plain": [
       "                 MAE  $\\sigma_{MAE}$    MSE  $\\sigma_{MSE}$    PSNR  \\\n",
       "                                                                      \n",
       "ctmask        0.0931          0.0279 0.0345          0.0017 33.6613   \n",
       "ctmask_gdl    0.0933          0.0260 0.0327          0.0012 34.2013   \n",
       "ctmask_l2     0.0954          0.0246 0.0318          0.0010 34.4802   \n",
       "ctmask_l2_gdl 0.0956          0.0255 0.0321          0.0011 34.3947   \n",
       "\n",
       "               $\\sigma_{PSNR}$   SSIM  $\\sigma_{SSIM}$  \n",
       "                                                        \n",
       "ctmask                  5.8422 0.9656           0.0131  \n",
       "ctmask_gdl              5.5504 0.9618           0.0135  \n",
       "ctmask_l2               5.3421 0.9647           0.0127  \n",
       "ctmask_l2_gdl           5.4117 0.9619           0.0138  "
      ]
     },
     "execution_count": 4,
     "metadata": {},
     "output_type": "execute_result"
    }
   ],
   "source": [
    "dataset = np.load(path_dataset + \"ctmask_nosqrt\" + \"/valid_eval.npz\")\n",
    "metrics = utils.compute_val_metrics(models, model_names, dataset, bevels, begens, begts)\n",
    "metrics"
   ]
  },
  {
   "cell_type": "markdown",
   "id": "2d8c329f",
   "metadata": {},
   "source": [
    "##### Load data"
   ]
  },
  {
   "cell_type": "code",
   "execution_count": 5,
   "id": "bcbe8589",
   "metadata": {},
   "outputs": [],
   "source": [
    "model_names = [\"ctmask_l1_l2\", \"ctmask_l1_l2_gdl\", \"ctmask_perceptual\"]\n",
    "models, outputs = utils.retrieve_models(model_names, path_model)\n",
    "trains, vals, bevels, begens, begts = utils.retrieve_history(outputs)"
   ]
  },
  {
   "cell_type": "markdown",
   "id": "a8c64023",
   "metadata": {},
   "source": [
    "##### Metrics"
   ]
  },
  {
   "cell_type": "code",
   "execution_count": 6,
   "id": "9cd50616",
   "metadata": {},
   "outputs": [
    {
     "name": "stderr",
     "output_type": "stream",
     "text": [
      "100%|████████████████████████████████████████████████████████████████████████████████████| 3/3 [03:18<00:00, 66.08s/it]\n"
     ]
    },
    {
     "data": {
      "text/html": [
       "<div>\n",
       "<style scoped>\n",
       "    .dataframe tbody tr th:only-of-type {\n",
       "        vertical-align: middle;\n",
       "    }\n",
       "\n",
       "    .dataframe tbody tr th {\n",
       "        vertical-align: top;\n",
       "    }\n",
       "\n",
       "    .dataframe thead th {\n",
       "        text-align: right;\n",
       "    }\n",
       "</style>\n",
       "<table border=\"1\" class=\"dataframe\">\n",
       "  <thead>\n",
       "    <tr style=\"text-align: right;\">\n",
       "      <th></th>\n",
       "      <th>MAE</th>\n",
       "      <th>$\\sigma_{MAE}$</th>\n",
       "      <th>MSE</th>\n",
       "      <th>$\\sigma_{MSE}$</th>\n",
       "      <th>PSNR</th>\n",
       "      <th>$\\sigma_{PSNR}$</th>\n",
       "      <th>SSIM</th>\n",
       "      <th>$\\sigma_{SSIM}$</th>\n",
       "    </tr>\n",
       "    <tr>\n",
       "      <th></th>\n",
       "      <th></th>\n",
       "      <th></th>\n",
       "      <th></th>\n",
       "      <th></th>\n",
       "      <th></th>\n",
       "      <th></th>\n",
       "      <th></th>\n",
       "      <th></th>\n",
       "    </tr>\n",
       "  </thead>\n",
       "  <tbody>\n",
       "    <tr>\n",
       "      <th>ctmask_l1_l2</th>\n",
       "      <td>0.0928</td>\n",
       "      <td>0.0259</td>\n",
       "      <td>0.0325</td>\n",
       "      <td>0.0012</td>\n",
       "      <td>34.2615</td>\n",
       "      <td>5.6593</td>\n",
       "      <td>0.9654</td>\n",
       "      <td>0.0127</td>\n",
       "    </tr>\n",
       "    <tr>\n",
       "      <th>ctmask_l1_l2_gdl</th>\n",
       "      <td>0.0938</td>\n",
       "      <td>0.0259</td>\n",
       "      <td>0.0324</td>\n",
       "      <td>0.0012</td>\n",
       "      <td>34.3025</td>\n",
       "      <td>5.5604</td>\n",
       "      <td>0.9645</td>\n",
       "      <td>0.0130</td>\n",
       "    </tr>\n",
       "    <tr>\n",
       "      <th>ctmask_perceptual</th>\n",
       "      <td>0.1076</td>\n",
       "      <td>0.0270</td>\n",
       "      <td>0.0391</td>\n",
       "      <td>0.0016</td>\n",
       "      <td>32.4163</td>\n",
       "      <td>5.1863</td>\n",
       "      <td>0.9352</td>\n",
       "      <td>0.0212</td>\n",
       "    </tr>\n",
       "  </tbody>\n",
       "</table>\n",
       "</div>"
      ],
      "text/plain": [
       "                     MAE  $\\sigma_{MAE}$    MSE  $\\sigma_{MSE}$    PSNR  \\\n",
       "                                                                          \n",
       "ctmask_l1_l2      0.0928          0.0259 0.0325          0.0012 34.2615   \n",
       "ctmask_l1_l2_gdl  0.0938          0.0259 0.0324          0.0012 34.3025   \n",
       "ctmask_perceptual 0.1076          0.0270 0.0391          0.0016 32.4163   \n",
       "\n",
       "                   $\\sigma_{PSNR}$   SSIM  $\\sigma_{SSIM}$  \n",
       "                                                            \n",
       "ctmask_l1_l2                5.6593 0.9654           0.0127  \n",
       "ctmask_l1_l2_gdl            5.5604 0.9645           0.0130  \n",
       "ctmask_perceptual           5.1863 0.9352           0.0212  "
      ]
     },
     "execution_count": 6,
     "metadata": {},
     "output_type": "execute_result"
    }
   ],
   "source": [
    "dataset = np.load(path_dataset + \"ctmask_nosqrt\" + \"/valid_eval.npz\")\n",
    "metrics = utils.compute_val_metrics(models, model_names, dataset, bevels, begens, begts)\n",
    "metrics"
   ]
  },
  {
   "cell_type": "code",
   "execution_count": null,
   "id": "1b6acb50",
   "metadata": {},
   "outputs": [],
   "source": []
  },
  {
   "cell_type": "code",
   "execution_count": null,
   "id": "cfd59d8c",
   "metadata": {},
   "outputs": [],
   "source": [
    "fig, ax = plt.subplots(figsize = (10, 5))\n",
    "\n",
    "labels_sorted = [x for _, x in sorted(zip(MAE, model_names), reverse = True)]\n",
    "MAE_sorted = sorted(MAE, reverse = True)\n",
    "\n",
    "for i in range(len(MAE_sorted)):\n",
    "    ax.text(s = \"%.4f\" %MAE_sorted[i], y = MAE_sorted[i] + 0.005, x=i - 0.3, fontsize=20)\n",
    "    \n",
    "X_axis = np.arange(len(MAE_sorted))\n",
    "  \n",
    "ax.bar(X_axis, MAE_sorted, width = 0.6)\n",
    "\n",
    "ax.tick_params(axis='both', which='major', labelsize=20)\n",
    "ax.set_xticks(X_axis, labels_sorted)\n",
    "#ax.set_xlabel(\"Models\", fontsize = 20)\n",
    "ax.set_ylabel(\"Mean Absolute Error\\n(MAE)\", fontsize = 25)\n",
    "ax.set_title(\"Best Performance (after 30 epochs)\", fontsize = 30)\n",
    "ax.set_ylim([0, 0.15])\n",
    "\n",
    "os.chdir(\"C:/Users/matth/Documents/Martinos Center/ISMRM presentation/\")\n",
    "plt.savefig(\"Losses_barplot.svg\", bbox_inches = 'tight')\n",
    "plt.show()"
   ]
  }
 ],
 "metadata": {
  "kernelspec": {
   "display_name": "Python [conda env:martinos]",
   "language": "python",
   "name": "conda-env-martinos-py"
  },
  "language_info": {
   "codemirror_mode": {
    "name": "ipython",
    "version": 3
   },
   "file_extension": ".py",
   "mimetype": "text/x-python",
   "name": "python",
   "nbconvert_exporter": "python",
   "pygments_lexer": "ipython3",
   "version": "3.9.12"
  }
 },
 "nbformat": 4,
 "nbformat_minor": 5
}
