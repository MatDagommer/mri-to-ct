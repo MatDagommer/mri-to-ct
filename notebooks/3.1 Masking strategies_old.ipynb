{
 "cells": [
  {
   "cell_type": "markdown",
   "id": "5860968c",
   "metadata": {},
   "source": [
    "## Results: Masking strategies"
   ]
  },
  {
   "cell_type": "code",
   "execution_count": 1,
   "id": "24898f45",
   "metadata": {},
   "outputs": [],
   "source": [
    "import sys\n",
    "sys.path.append(\"C:/Users/matth/Documents/Martinos Center/mrtoct\") \n",
    "\n",
    "import matplotlib.pyplot as plt\n",
    "import matplotlib as mpl\n",
    "import matplotlib.colors as colors\n",
    "import matplotlib.cm as cm\n",
    "import utils.test_utils as utils\n",
    "import os\n",
    "import pickle\n",
    "import numpy as np\n",
    "import gc"
   ]
  },
  {
   "cell_type": "code",
   "execution_count": 2,
   "id": "9583369b",
   "metadata": {},
   "outputs": [],
   "source": [
    "path_model = \"C:/Users/matth/Documents/Martinos Center/Models/DeepBrain/\"\n",
    "path_dataset = \"C:/Users/matth/Documents/Martinos Center/mrtoct/datasets/\""
   ]
  },
  {
   "cell_type": "markdown",
   "id": "0f287190",
   "metadata": {},
   "source": [
    "### Python commands"
   ]
  },
  {
   "cell_type": "markdown",
   "id": "da591ab1",
   "metadata": {},
   "source": [
    "Run these lines in the command prompt to generate the dataset and train models.\n",
    "\n",
    "##### Preprocessing:\n",
    "\n",
    "* <font color = blue>python preprocessing.py --dataset all_mask_sqrt</font>\n",
    "* <font color = blue>python preprocessing.py --dataset all_nomask_sqrt --no_mask</font>\n",
    "* <font color = blue>python preprocessing.py --dataset ct_mask_sqrt --mask_opt 1</font>\n",
    "* <font color = blue>python preprocessing.py --dataset t1_mask_sqrt --mask_opt 2</font>\n",
    "\n",
    "##### Training: \n",
    "        \n",
    "* <font color = blue>python train.py --dataset all_nomask_sqrt --name nomask_nobim_30epochs --n_epochs 30</font>\n",
    "* <font color = blue>python train.py --dataset all_nomask_sqrt --name nomask_30epochs --n_epochs 30 3</font>\n",
    "* <font color = blue>python train.py --dataset ct_mask_sqrt --name ct_mask_nobim --no_bim --n_epochs 30</font>\n",
    "* <font color = blue>python train.py --dataset ct_mask_sqrt --name ct_mask --n_epochs 30</font>\n",
    "* <font color = blue>python train.py --dataset t1_mask_sqrt --name t1_mask_nobim --no_bim --n_epochs 30</font>\n",
    "* <font color = blue>python train.py --dataset t1_mask_sqrt --name t1_mask --n_epochs 30</font>\n",
    "* <font color = blue>python train.py --dataset all_mask_sqrt --name nobim_30epochs --no_bim --n_epochs 30</font>\n",
    "* <font color = blue>python train.py --dataset all_mask_sqrt --name default_30epochs --n_epochs 30</font>"
   ]
  },
  {
   "cell_type": "markdown",
   "id": "7dfc5614",
   "metadata": {},
   "source": [
    "##### Retrieve data"
   ]
  },
  {
   "cell_type": "code",
   "execution_count": null,
   "id": "a1b65052",
   "metadata": {},
   "outputs": [],
   "source": [
    "model_names = [\"default_30epochs\", \"nobim_30epochs\", \"nomask_30epochs\", \"nomask_nobim_30epochs\", \"3d_60epochs\", \n",
    "               \"3d_l1_l2_nobim_60epochs\"]\n",
    "\n",
    "models, outputs = utils.retrieve_models(model_names, path_model)\n",
    "trains, vals, bevels, begens, begts = utils.retrieve_history(outputs)"
   ]
  },
  {
   "cell_type": "markdown",
   "id": "93f8df94",
   "metadata": {},
   "source": [
    "##### Plot"
   ]
  },
  {
   "cell_type": "code",
   "execution_count": null,
   "id": "5874868e",
   "metadata": {},
   "outputs": [],
   "source": [
    "fig, ax = plt.subplots(figsize = (16,8))\n",
    "x = np.linspace(0, 30, len(trains[0]))\n",
    "\n",
    "ax.plot(x, vals[0], 'r', label = 'With Mask/With BIM (Default)', linewidth = 2)#, marker = 'o', mfc = 'none')\n",
    "ax.plot(x, vals[1], 'b', label = 'With Mask/No BIM', linewidth = 2)#, marker = 'o', mfc = 'none')\n",
    "ax.plot(x, vals[2], 'g', label = 'No Mask/With BIM', linewidth = 2)#, marker = 'o', mfc = 'none')\n",
    "ax.plot(x, vals[3], 'k', label = 'No Mask/No BIM', linewidth = 2)#, marker = 'o', mfc = 'none')\n",
    "\n",
    "ax.set_title(\"Masking of non-skull pixels in the input data\\nand during backpropagation: validation curves\", fontsize = 25)\n",
    "ax.set_xlabel(\"Epochs\", fontsize = 22)\n",
    "ax.set_ylabel(\"MAE\", fontsize = 22)\n",
    "\n",
    "ax.tick_params(axis='both', which='major', labelsize=25)\n",
    "ax.set_ylim([0.08, 0.400])\n",
    "ax.set_xlim([0, 30])\n",
    "ax.legend(fontsize = 20, loc = 'upper right')\n",
    "ax.grid('on')"
   ]
  },
  {
   "cell_type": "code",
   "execution_count": null,
   "id": "6a315a21",
   "metadata": {},
   "outputs": [],
   "source": [
    "rows = 2\n",
    "suptitles = [\"2D UNet (256x256)\", \"3D ResNet (32x32x32)\"]\n",
    "fig, ax = plt.subplots(rows, 1, figsize = (12,10))\n",
    "x = np.linspace(0, 30, len(trains[0]))\n",
    "x2 = np.linspace(0, 60, len(trains[5]))\n",
    "\n",
    "ax[0].plot(x, vals[0], 'r', label = 'With BIM', linewidth = 3)\n",
    "ax[0].plot(x, vals[1], 'b', label = 'No BIM', linewidth = 3)\n",
    "\n",
    "ax[1].plot(x2, vals[4], 'r', label = 'With BIM', linewidth = 3)\n",
    "ax[1].plot(x2, vals[5], 'b', label = 'No BIM', linewidth = 3)\n",
    "\n",
    "xlims = [[0,30], [0,60]]\n",
    "ylims = [[0.05, 0.280], [0.06, 0.200]]\n",
    "\n",
    "for i in range(rows):\n",
    "    ax[i].set_xlabel(\"Epochs\", fontsize = 22)\n",
    "    ax[i].set_ylabel(\"Mean Absolute Error\\n(MAE)\", fontsize = 22)\n",
    "    ax[i].tick_params(axis='both', which='major', labelsize=18)\n",
    "    ax[i].set_ylim(ylims[i])\n",
    "    ax[i].set_xlim(xlims[i])\n",
    "    ax[i].legend(fontsize = 20, loc = 'upper right')    \n",
    "    ax[i].grid(\"on\")\n",
    "    ax[i].set_title(suptitles[i], fontsize=25)\n",
    "    \n",
    "fig.subplots_adjust(right=1, wspace=0, hspace=0.5)"
   ]
  },
  {
   "cell_type": "markdown",
   "id": "1b410669",
   "metadata": {},
   "source": [
    "##### Metrics (2D)"
   ]
  },
  {
   "cell_type": "code",
   "execution_count": null,
   "id": "224de5d0",
   "metadata": {},
   "outputs": [],
   "source": [
    "del models\n",
    "gc.collect()\n",
    "\n",
    "model_names = [\"nomask_nobim_30epochs\", \"nomask_30epochs\", \"ct_mask_nobim\", \"ct_mask\", \"t1_mask_nobim\", \n",
    "               \"t1_mask\", \"nobim_30epochs\",  \"default_30epochs\"]\n",
    "\n",
    "models, outputs = utils.retrieve_models(model_names, path_model)\n",
    "trains, vals, bevels, begens, begts = utils.retrieve_history(outputs)"
   ]
  },
  {
   "cell_type": "code",
   "execution_count": null,
   "id": "1995941f",
   "metadata": {},
   "outputs": [],
   "source": [
    "dataset_nomask = np.load(path_dataset + \"all_nomask_sqrt\" + \"/valid_eval.npz\")\n",
    "dataset_ct = np.load(path_dataset + \"ct_mask_sqrt\" + \"/valid_eval.npz\")\n",
    "dataset_t1 = np.load(path_dataset + \"t1_mask_sqrt\" + \"/valid_eval.npz\")\n",
    "dataset_mask = np.load(path_dataset + \"all_mask_sqrt\" + \"/valid_eval.npz\")\n",
    "datasets = [dataset_nomask, dataset_nomask, dataset_ct, dataset_ct, dataset_t1, dataset_t1, dataset_mask, dataset_mask]\n",
    "\n",
    "metrics = utils.compute_val_metrics(models, model_names, datasets, bevels, begens, begts)\n",
    "metrics"
   ]
  },
  {
   "cell_type": "code",
   "execution_count": null,
   "id": "74b2d419",
   "metadata": {},
   "outputs": [],
   "source": []
  },
  {
   "cell_type": "code",
   "execution_count": 3,
   "id": "2b560d49",
   "metadata": {},
   "outputs": [],
   "source": [
    "model_names = [\"ct_mask\", \"ct_mask_tanh_30ep\"]\n",
    "\n",
    "models, outputs = utils.retrieve_models(model_names, path_model)\n",
    "trains, vals, bevels, begens, begts = utils.retrieve_history(outputs)"
   ]
  },
  {
   "cell_type": "code",
   "execution_count": 4,
   "id": "ac48e655",
   "metadata": {
    "scrolled": true
   },
   "outputs": [
    {
     "name": "stderr",
     "output_type": "stream",
     "text": [
      "100%|████████████████████████████████████████████████████████████████████████████████████| 2/2 [01:20<00:00, 40.36s/it]\n"
     ]
    },
    {
     "data": {
      "text/html": [
       "<div>\n",
       "<style scoped>\n",
       "    .dataframe tbody tr th:only-of-type {\n",
       "        vertical-align: middle;\n",
       "    }\n",
       "\n",
       "    .dataframe tbody tr th {\n",
       "        vertical-align: top;\n",
       "    }\n",
       "\n",
       "    .dataframe thead th {\n",
       "        text-align: right;\n",
       "    }\n",
       "</style>\n",
       "<table border=\"1\" class=\"dataframe\">\n",
       "  <thead>\n",
       "    <tr style=\"text-align: right;\">\n",
       "      <th></th>\n",
       "      <th>MAE</th>\n",
       "      <th>MSE</th>\n",
       "      <th>NRMSE</th>\n",
       "      <th>PSNR</th>\n",
       "      <th>SSIM</th>\n",
       "    </tr>\n",
       "    <tr>\n",
       "      <th></th>\n",
       "      <th></th>\n",
       "      <th></th>\n",
       "      <th></th>\n",
       "      <th></th>\n",
       "      <th></th>\n",
       "    </tr>\n",
       "  </thead>\n",
       "  <tbody>\n",
       "    <tr>\n",
       "      <th>ct_mask</th>\n",
       "      <td>0.0954</td>\n",
       "      <td>0.0349</td>\n",
       "      <td>0.1868</td>\n",
       "      <td>33.5552</td>\n",
       "      <td>0.9754</td>\n",
       "    </tr>\n",
       "    <tr>\n",
       "      <th>ct_mask_tanh_30ep</th>\n",
       "      <td>0.0958</td>\n",
       "      <td>0.0353</td>\n",
       "      <td>0.1880</td>\n",
       "      <td>47.2912</td>\n",
       "      <td>0.9623</td>\n",
       "    </tr>\n",
       "  </tbody>\n",
       "</table>\n",
       "</div>"
      ],
      "text/plain": [
       "                     MAE    MSE  NRMSE    PSNR   SSIM\n",
       "                                                     \n",
       "ct_mask           0.0954 0.0349 0.1868 33.5552 0.9754\n",
       "ct_mask_tanh_30ep 0.0958 0.0353 0.1880 47.2912 0.9623"
      ]
     },
     "execution_count": 4,
     "metadata": {},
     "output_type": "execute_result"
    }
   ],
   "source": [
    "dataset_sigmoid = np.load(path_dataset + \"ct_mask_sqrt\" + \"/valid_eval.npz\")\n",
    "dataset_tanh = np.load(path_dataset + \"ct_mask_sqrt_tanh\" + \"/valid_eval.npz\")\n",
    "\n",
    "datasets = [dataset_sigmoid, dataset_tanh]\n",
    "metrics = utils.compute_val_metrics(models, model_names, datasets, bevels, begens, begts)\n",
    "metrics"
   ]
  },
  {
   "cell_type": "code",
   "execution_count": null,
   "id": "b330388b",
   "metadata": {},
   "outputs": [],
   "source": [
    "source = dataset_sigmoid['x'][0:1, :, :, :]\n",
    "target = dataset_sigmoid['y'][0, :, :, 0]\n",
    "mask = dataset_sigmoid['m'][0, :, :, 0]\n",
    "\n",
    "fig, ax = plt.subplots(1,3, figsize = (15,10))\n",
    "for i in range(2):\n",
    "    if i == 1:\n",
    "        source = ( source - 0.5 ) * 2\n",
    "    print(source.shape)\n",
    "    pred = models[i].predict(source)\n",
    "    print(pred.shape)\n",
    "    ax[i].imshow( ( pred[0,:,:,0] - 1 ) * mask + 1 , cmap = \"gray\")\n",
    "    \n",
    "ax[2].imshow(target, cmap = \"gray\")"
   ]
  },
  {
   "cell_type": "code",
   "execution_count": 9,
   "id": "3e9b67e3",
   "metadata": {},
   "outputs": [
    {
     "name": "stdout",
     "output_type": "stream",
     "text": [
      "{'mm_t1': MinMaxScaler(), 'mm_ct': MinMaxScaler(), 'mm_mask': MinMaxScaler(), 'no_mask': False, 'no_sqrt': False, 'seed': 0, 'set_pct': False, 'ns_valid': 473, 'patch_shape': (256, 256, 1)}\n"
     ]
    }
   ],
   "source": [
    "with open(path_dataset + \"all_mask_sqrt\" + \"/dataset_info\", \"rb\") as f:\n",
    "    data = pickle.load(f)\n",
    "#dataset_sigmoid = pickle.load(path_dataset + \"ct_mask_sqrt\" + \"dataset_info\")\n",
    "#print(data[\"elapsed time\"])\n",
    "print(data)"
   ]
  },
  {
   "cell_type": "code",
   "execution_count": null,
   "id": "9ac46736",
   "metadata": {},
   "outputs": [],
   "source": []
  }
 ],
 "metadata": {
  "kernelspec": {
   "display_name": "Python [conda env:martinos]",
   "language": "python",
   "name": "conda-env-martinos-py"
  },
  "language_info": {
   "codemirror_mode": {
    "name": "ipython",
    "version": 3
   },
   "file_extension": ".py",
   "mimetype": "text/x-python",
   "name": "python",
   "nbconvert_exporter": "python",
   "pygments_lexer": "ipython3",
   "version": "3.9.12"
  }
 },
 "nbformat": 4,
 "nbformat_minor": 5
}
