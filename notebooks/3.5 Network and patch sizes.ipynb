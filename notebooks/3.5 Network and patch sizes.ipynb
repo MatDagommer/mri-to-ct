{
 "cells": [
  {
   "cell_type": "markdown",
   "id": "93bfbab3",
   "metadata": {},
   "source": [
    "## Results: Network and patch sizes"
   ]
  },
  {
   "cell_type": "code",
   "execution_count": 1,
   "id": "05a6a509",
   "metadata": {},
   "outputs": [],
   "source": [
    "import sys\n",
    "sys.path.append(\"C:/Users/matth/Documents/Martinos Center/mrtoct\")\n",
    "import matplotlib.pyplot as plt\n",
    "import matplotlib as mpl\n",
    "import matplotlib.colors as colors\n",
    "import matplotlib.cm as cm\n",
    "import utils.test_utils as utils\n",
    "import os\n",
    "import pickle\n",
    "import numpy as np\n",
    "import gc"
   ]
  },
  {
   "cell_type": "code",
   "execution_count": 2,
   "id": "36aa51d0",
   "metadata": {},
   "outputs": [],
   "source": [
    "path_model = \"C:/Users/matth/Documents/Martinos Center/Models/DeepBrain/\"\n",
    "path_dataset = \"C:/Users/matth/Documents/Martinos Center/mrtoct/datasets/\""
   ]
  },
  {
   "cell_type": "markdown",
   "id": "ce25b3ca",
   "metadata": {},
   "source": [
    "### Python Commands"
   ]
  },
  {
   "cell_type": "markdown",
   "id": "575c38be",
   "metadata": {},
   "source": [
    "Run these lines in the command prompt to generate the dataset and train models.\n",
    "\n",
    "##### Preprocessing:\n",
    "\n",
    "* <font color = blue>python preprocessing.py --dataset ctmask_nosqrt --no_sqrt --tanh --mask_opt 1</font>\n",
    "* <font color = blue>python preprocessing.py --dataset ctmask_nosqrt_128 --format 2d_128 --no_sqrt --tanh --mask_opt 1</font>\n",
    "* <font color = blue>python preprocessing.py --dataset ctmask_nosqrt_64 --format 2d_64 --no_sqrt --tanh --mask_opt 1</font>\n",
    "* <font color = blue>python preprocessing.py --dataset ctmask_nosqrt_3d --format 3d_64 --no_sqrt --tanh --mask_opt 1</font>\n",
    "\n",
    "##### Training: \n",
    "\n",
    "* <font color = blue>python train.py --dataset ctmask_nosqrt --name ctmask_l1_l2_60ep --l1_l2 --n_epochs 60</font>\n",
    "* <font color = blue>python train.py --dataset ctmask_nosqrt_128 --name ctmask_l1_l2_128 --l1_l2 --netG UNet128 --n_epochs 60</font>\n",
    "* <font color = blue>python train.py --dataset ctmask_nosqrt_64 --name ctmask_l1_l2_64 --l1_l2 --netG UNet64 --n_epochs 60</font>\n",
    "* <font color = blue>python train.py --dataset ctmask_nosqrt_3d --name ctmask_l1_l2_3d --l1_l2 --netG ResNet9_3D --netD Discriminator_3D --n_epochs 60</font>"
   ]
  },
  {
   "cell_type": "code",
   "execution_count": 9,
   "id": "62632ca0",
   "metadata": {},
   "outputs": [
    {
     "name": "stderr",
     "output_type": "stream",
     "text": [
      "\r",
      "  0%|                                                                                            | 0/1 [00:00<?, ?it/s]"
     ]
    },
    {
     "name": "stdout",
     "output_type": "stream",
     "text": [
      "N =  3295656\n",
      "sum mask:  3177858\n"
     ]
    },
    {
     "name": "stderr",
     "output_type": "stream",
     "text": [
      "100%|████████████████████████████████████████████████████████████████████████████████████| 1/1 [01:02<00:00, 62.27s/it]\n"
     ]
    },
    {
     "data": {
      "text/html": [
       "<div>\n",
       "<style scoped>\n",
       "    .dataframe tbody tr th:only-of-type {\n",
       "        vertical-align: middle;\n",
       "    }\n",
       "\n",
       "    .dataframe tbody tr th {\n",
       "        vertical-align: top;\n",
       "    }\n",
       "\n",
       "    .dataframe thead th {\n",
       "        text-align: right;\n",
       "    }\n",
       "</style>\n",
       "<table border=\"1\" class=\"dataframe\">\n",
       "  <thead>\n",
       "    <tr style=\"text-align: right;\">\n",
       "      <th></th>\n",
       "      <th>MAE</th>\n",
       "      <th>$\\sigma_{MAE}$</th>\n",
       "      <th>MSE</th>\n",
       "      <th>$\\sigma_{MSE}$</th>\n",
       "      <th>PSNR</th>\n",
       "      <th>$\\sigma_{PSNR}$</th>\n",
       "      <th>SSIM</th>\n",
       "      <th>$\\sigma_{SSIM}$</th>\n",
       "    </tr>\n",
       "    <tr>\n",
       "      <th></th>\n",
       "      <th></th>\n",
       "      <th></th>\n",
       "      <th></th>\n",
       "      <th></th>\n",
       "      <th></th>\n",
       "      <th></th>\n",
       "      <th></th>\n",
       "      <th></th>\n",
       "    </tr>\n",
       "  </thead>\n",
       "  <tbody>\n",
       "    <tr>\n",
       "      <th>ctmask_l1_l2_60ep</th>\n",
       "      <td>0.0930</td>\n",
       "      <td>0.0263</td>\n",
       "      <td>0.0328</td>\n",
       "      <td>0.0157</td>\n",
       "      <td>34.1716</td>\n",
       "      <td>5.7180</td>\n",
       "      <td>0.9675</td>\n",
       "      <td>0.0122</td>\n",
       "    </tr>\n",
       "  </tbody>\n",
       "</table>\n",
       "</div>"
      ],
      "text/plain": [
       "                     MAE  $\\sigma_{MAE}$    MSE  $\\sigma_{MSE}$    PSNR  \\\n",
       "                                                                          \n",
       "ctmask_l1_l2_60ep 0.0930          0.0263 0.0328          0.0157 34.1716   \n",
       "\n",
       "                   $\\sigma_{PSNR}$   SSIM  $\\sigma_{SSIM}$  \n",
       "                                                            \n",
       "ctmask_l1_l2_60ep           5.7180 0.9675           0.0122  "
      ]
     },
     "execution_count": 9,
     "metadata": {},
     "output_type": "execute_result"
    }
   ],
   "source": [
    "\n",
    "model_names = [\"ctmask_l1_l2_60ep\"]\n",
    "models, outputs = utils.retrieve_models(model_names, path_model)\n",
    "trains, vals, bevels, begens, begts = utils.retrieve_history(outputs)\n",
    "dataset = np.load(path_dataset + \"ctmask_nosqrt\" + \"/valid_eval.npz\")\n",
    "metrics = utils.compute_val_metrics(models, model_names, dataset, bevels, begens, begts)\n",
    "metrics\n"
   ]
  },
  {
   "cell_type": "code",
   "execution_count": 4,
   "id": "c32ac4b2",
   "metadata": {},
   "outputs": [
    {
     "name": "stderr",
     "output_type": "stream",
     "text": [
      "\r",
      "  0%|                                                                                            | 0/1 [00:00<?, ?it/s]"
     ]
    },
    {
     "name": "stdout",
     "output_type": "stream",
     "text": [
      "N =  5524422\n",
      "sum mask:  5524422\n"
     ]
    },
    {
     "name": "stderr",
     "output_type": "stream",
     "text": [
      "100%|███████████████████████████████████████████████████████████████████████████████████| 1/1 [02:30<00:00, 150.22s/it]\n"
     ]
    },
    {
     "data": {
      "text/html": [
       "<div>\n",
       "<style scoped>\n",
       "    .dataframe tbody tr th:only-of-type {\n",
       "        vertical-align: middle;\n",
       "    }\n",
       "\n",
       "    .dataframe tbody tr th {\n",
       "        vertical-align: top;\n",
       "    }\n",
       "\n",
       "    .dataframe thead th {\n",
       "        text-align: right;\n",
       "    }\n",
       "</style>\n",
       "<table border=\"1\" class=\"dataframe\">\n",
       "  <thead>\n",
       "    <tr style=\"text-align: right;\">\n",
       "      <th></th>\n",
       "      <th>MAE</th>\n",
       "      <th>$\\sigma_{MAE}$</th>\n",
       "      <th>MSE</th>\n",
       "      <th>$\\sigma_{MSE}$</th>\n",
       "      <th>PSNR</th>\n",
       "      <th>$\\sigma_{PSNR}$</th>\n",
       "      <th>SSIM</th>\n",
       "      <th>$\\sigma_{SSIM}$</th>\n",
       "    </tr>\n",
       "    <tr>\n",
       "      <th></th>\n",
       "      <th></th>\n",
       "      <th></th>\n",
       "      <th></th>\n",
       "      <th></th>\n",
       "      <th></th>\n",
       "      <th></th>\n",
       "      <th></th>\n",
       "      <th></th>\n",
       "    </tr>\n",
       "  </thead>\n",
       "  <tbody>\n",
       "    <tr>\n",
       "      <th>ctmask_l1_l2_128</th>\n",
       "      <td>0.1020</td>\n",
       "      <td>0.0444</td>\n",
       "      <td>0.0328</td>\n",
       "      <td>0.0280</td>\n",
       "      <td>34.1836</td>\n",
       "      <td>7.0102</td>\n",
       "      <td>0.9115</td>\n",
       "      <td>0.0550</td>\n",
       "    </tr>\n",
       "  </tbody>\n",
       "</table>\n",
       "</div>"
      ],
      "text/plain": [
       "                    MAE  $\\sigma_{MAE}$    MSE  $\\sigma_{MSE}$    PSNR  \\\n",
       "                                                                         \n",
       "ctmask_l1_l2_128 0.1020          0.0444 0.0328          0.0280 34.1836   \n",
       "\n",
       "                  $\\sigma_{PSNR}$   SSIM  $\\sigma_{SSIM}$  \n",
       "                                                           \n",
       "ctmask_l1_l2_128           7.0102 0.9115           0.0550  "
      ]
     },
     "execution_count": 4,
     "metadata": {},
     "output_type": "execute_result"
    }
   ],
   "source": [
    "model_names = [\"ctmask_l1_l2_128\"]\n",
    "models, outputs = utils.retrieve_models(model_names, path_model)\n",
    "dataset = np.load(path_dataset + \"ctmask_nosqrt_128\" + \"/valid_eval.npz\")\n",
    "begens, begts, bevels = utils.compute_errors(dataset, model = models[0])\n",
    "metrics = utils.compute_val_metrics(models, model_names, dataset, bevels, begens, begts)\n",
    "metrics\n"
   ]
  },
  {
   "cell_type": "code",
   "execution_count": 5,
   "id": "6ea22007",
   "metadata": {},
   "outputs": [
    {
     "name": "stderr",
     "output_type": "stream",
     "text": [
      "\r",
      "  0%|                                                                                            | 0/1 [00:00<?, ?it/s]"
     ]
    },
    {
     "name": "stdout",
     "output_type": "stream",
     "text": [
      "N =  6631160\n",
      "sum mask:  6631160\n"
     ]
    },
    {
     "name": "stderr",
     "output_type": "stream",
     "text": [
      "C:\\Users/matth/Documents/Martinos Center/mrtoct\\utils\\test_utils.py:96: RuntimeWarning: divide by zero encountered in double_scalars\n",
      "  psnr_list.append( 10* np.log( M**2 / mse_list[-1]) )\n",
      "C:\\Users\\matth\\anaconda3\\envs\\martinos\\lib\\site-packages\\numpy\\core\\_methods.py:230: RuntimeWarning: invalid value encountered in subtract\n",
      "  x = asanyarray(arr - arrmean)\n",
      "100%|███████████████████████████████████████████████████████████████████████████████████| 1/1 [07:28<00:00, 448.59s/it]\n"
     ]
    },
    {
     "data": {
      "text/html": [
       "<div>\n",
       "<style scoped>\n",
       "    .dataframe tbody tr th:only-of-type {\n",
       "        vertical-align: middle;\n",
       "    }\n",
       "\n",
       "    .dataframe tbody tr th {\n",
       "        vertical-align: top;\n",
       "    }\n",
       "\n",
       "    .dataframe thead th {\n",
       "        text-align: right;\n",
       "    }\n",
       "</style>\n",
       "<table border=\"1\" class=\"dataframe\">\n",
       "  <thead>\n",
       "    <tr style=\"text-align: right;\">\n",
       "      <th></th>\n",
       "      <th>MAE</th>\n",
       "      <th>$\\sigma_{MAE}$</th>\n",
       "      <th>MSE</th>\n",
       "      <th>$\\sigma_{MSE}$</th>\n",
       "      <th>PSNR</th>\n",
       "      <th>$\\sigma_{PSNR}$</th>\n",
       "      <th>SSIM</th>\n",
       "      <th>$\\sigma_{SSIM}$</th>\n",
       "    </tr>\n",
       "    <tr>\n",
       "      <th></th>\n",
       "      <th></th>\n",
       "      <th></th>\n",
       "      <th></th>\n",
       "      <th></th>\n",
       "      <th></th>\n",
       "      <th></th>\n",
       "      <th></th>\n",
       "      <th></th>\n",
       "    </tr>\n",
       "  </thead>\n",
       "  <tbody>\n",
       "    <tr>\n",
       "      <th>ctmask_l1_l2_64</th>\n",
       "      <td>0.1435</td>\n",
       "      <td>0.0834</td>\n",
       "      <td>0.0599</td>\n",
       "      <td>0.0656</td>\n",
       "      <td>28.1557</td>\n",
       "      <td>NaN</td>\n",
       "      <td>0.8593</td>\n",
       "      <td>0.1284</td>\n",
       "    </tr>\n",
       "  </tbody>\n",
       "</table>\n",
       "</div>"
      ],
      "text/plain": [
       "                   MAE  $\\sigma_{MAE}$    MSE  $\\sigma_{MSE}$    PSNR  \\\n",
       "                                                                        \n",
       "ctmask_l1_l2_64 0.1435          0.0834 0.0599          0.0656 28.1557   \n",
       "\n",
       "                 $\\sigma_{PSNR}$   SSIM  $\\sigma_{SSIM}$  \n",
       "                                                          \n",
       "ctmask_l1_l2_64              NaN 0.8593           0.1284  "
      ]
     },
     "execution_count": 5,
     "metadata": {},
     "output_type": "execute_result"
    }
   ],
   "source": [
    "model_names = [\"ctmask_l1_l2_64\"]\n",
    "models, outputs = utils.retrieve_models(model_names, path_model)\n",
    "dataset = np.load(path_dataset + \"ctmask_nosqrt_64\" + \"/valid_eval.npz\")\n",
    "begens, begts, bevels = utils.compute_errors(dataset, model = models[0])\n",
    "metrics = utils.compute_val_metrics(models, model_names, dataset, bevels, begens, begts)\n",
    "metrics"
   ]
  },
  {
   "cell_type": "code",
   "execution_count": 6,
   "id": "2d6ea5b6",
   "metadata": {},
   "outputs": [
    {
     "name": "stderr",
     "output_type": "stream",
     "text": [
      "\r",
      "  0%|                                                                                            | 0/1 [00:00<?, ?it/s]"
     ]
    },
    {
     "name": "stdout",
     "output_type": "stream",
     "text": [
      "N =  6102195\n",
      "sum mask:  6102195\n"
     ]
    },
    {
     "name": "stderr",
     "output_type": "stream",
     "text": [
      "100%|███████████████████████████████████████████████████████████████████████████████████| 1/1 [05:06<00:00, 306.95s/it]\n"
     ]
    },
    {
     "data": {
      "text/html": [
       "<div>\n",
       "<style scoped>\n",
       "    .dataframe tbody tr th:only-of-type {\n",
       "        vertical-align: middle;\n",
       "    }\n",
       "\n",
       "    .dataframe tbody tr th {\n",
       "        vertical-align: top;\n",
       "    }\n",
       "\n",
       "    .dataframe thead th {\n",
       "        text-align: right;\n",
       "    }\n",
       "</style>\n",
       "<table border=\"1\" class=\"dataframe\">\n",
       "  <thead>\n",
       "    <tr style=\"text-align: right;\">\n",
       "      <th></th>\n",
       "      <th>MAE</th>\n",
       "      <th>$\\sigma_{MAE}$</th>\n",
       "      <th>MSE</th>\n",
       "      <th>$\\sigma_{MSE}$</th>\n",
       "      <th>PSNR</th>\n",
       "      <th>$\\sigma_{PSNR}$</th>\n",
       "      <th>SSIM</th>\n",
       "      <th>$\\sigma_{SSIM}$</th>\n",
       "    </tr>\n",
       "    <tr>\n",
       "      <th></th>\n",
       "      <th></th>\n",
       "      <th></th>\n",
       "      <th></th>\n",
       "      <th></th>\n",
       "      <th></th>\n",
       "      <th></th>\n",
       "      <th></th>\n",
       "      <th></th>\n",
       "    </tr>\n",
       "  </thead>\n",
       "  <tbody>\n",
       "    <tr>\n",
       "      <th>ctmask_l1_l2_3d</th>\n",
       "      <td>0.0765</td>\n",
       "      <td>0.0383</td>\n",
       "      <td>0.0187</td>\n",
       "      <td>0.0241</td>\n",
       "      <td>39.8191</td>\n",
       "      <td>7.3811</td>\n",
       "      <td>0.9249</td>\n",
       "      <td>0.0696</td>\n",
       "    </tr>\n",
       "  </tbody>\n",
       "</table>\n",
       "</div>"
      ],
      "text/plain": [
       "                   MAE  $\\sigma_{MAE}$    MSE  $\\sigma_{MSE}$    PSNR  \\\n",
       "                                                                        \n",
       "ctmask_l1_l2_3d 0.0765          0.0383 0.0187          0.0241 39.8191   \n",
       "\n",
       "                 $\\sigma_{PSNR}$   SSIM  $\\sigma_{SSIM}$  \n",
       "                                                          \n",
       "ctmask_l1_l2_3d           7.3811 0.9249           0.0696  "
      ]
     },
     "execution_count": 6,
     "metadata": {},
     "output_type": "execute_result"
    }
   ],
   "source": [
    "model_names = [\"ctmask_l1_l2_3d\"]\n",
    "models, outputs = utils.retrieve_models(model_names, path_model)\n",
    "dataset = np.load(path_dataset + \"ctmask_nosqrt_3d\" + \"/valid_eval.npz\")\n",
    "begens, begts, bevels = utils.compute_errors(dataset, model = models[0])\n",
    "metrics = utils.compute_val_metrics(models, model_names, dataset, bevels, begens, begts)\n",
    "metrics"
   ]
  },
  {
   "cell_type": "code",
   "execution_count": null,
   "id": "203552da",
   "metadata": {},
   "outputs": [],
   "source": []
  },
  {
   "cell_type": "code",
   "execution_count": null,
   "id": "813737c7",
   "metadata": {},
   "outputs": [],
   "source": []
  }
 ],
 "metadata": {
  "kernelspec": {
   "display_name": "Python [conda env:martinos]",
   "language": "python",
   "name": "conda-env-martinos-py"
  },
  "language_info": {
   "codemirror_mode": {
    "name": "ipython",
    "version": 3
   },
   "file_extension": ".py",
   "mimetype": "text/x-python",
   "name": "python",
   "nbconvert_exporter": "python",
   "pygments_lexer": "ipython3",
   "version": "3.9.12"
  }
 },
 "nbformat": 4,
 "nbformat_minor": 5
}
