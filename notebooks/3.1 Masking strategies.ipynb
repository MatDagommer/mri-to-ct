{
 "cells": [
  {
   "cell_type": "markdown",
   "id": "5860968c",
   "metadata": {},
   "source": [
    "## Results: Masking strategies"
   ]
  },
  {
   "cell_type": "code",
   "execution_count": 1,
   "id": "24898f45",
   "metadata": {},
   "outputs": [],
   "source": [
    "import sys\n",
    "sys.path.append(\"C:/Users/matth/Documents/Martinos Center/mrtoct\") \n",
    "\n",
    "import matplotlib.pyplot as plt\n",
    "import matplotlib as mpl\n",
    "import matplotlib.colors as colors\n",
    "import matplotlib.cm as cm\n",
    "import utils.test_utils as utils\n",
    "import os\n",
    "import pickle\n",
    "import numpy as np\n",
    "import gc"
   ]
  },
  {
   "cell_type": "code",
   "execution_count": 2,
   "id": "9583369b",
   "metadata": {},
   "outputs": [],
   "source": [
    "path_model = \"C:/Users/matth/Documents/Martinos Center/Models/DeepBrain/\"\n",
    "path_dataset = \"C:/Users/matth/Documents/Martinos Center/mrtoct/datasets/\""
   ]
  },
  {
   "cell_type": "markdown",
   "id": "0f287190",
   "metadata": {},
   "source": [
    "### Python commands"
   ]
  },
  {
   "cell_type": "markdown",
   "id": "da591ab1",
   "metadata": {},
   "source": [
    "Run these lines in the command prompt to generate the dataset and train models.\n",
    "\n",
    "##### Preprocessing:\n",
    "\n",
    "* <font color = blue>python preprocessing.py --dataset nomask_nosqrt --no_sqrt --tanh --no_mask</font>\n",
    "* <font color = blue>python preprocessing.py --dataset ctmask_nosqrt --no_sqrt --tanh --mask_opt 1</font>\n",
    "* <font color = blue>python preprocessing.py --dataset t1mask_nosqrt --no_sqrt --tanh --mask_opt 2</font>\n",
    "* <font color = blue>python preprocessing.py --dataset allmask_nosqrt --tanh --no_sqrt</font>\n",
    "\n",
    "##### Training: \n",
    "        \n",
    "* <font color = blue>python train.py --dataset nomask_nosqrt --name nomask_nobim --no_bim --tanh --n_epochs 30</font>\n",
    "* <font color = blue>python train.py --dataset nomask_nosqrt --name nomask --tanh --n_epochs 30</font>\n",
    "* <font color = blue>python train.py --dataset ctmask_nosqrt --name ctmask_nobim --no_bim --tanh --n_epochs 30</font>\n",
    "* <font color = blue>python train.py --dataset ctmask_nosqrt --name ctmask --tanh --n_epochs 30</font>\n",
    "* <font color = blue>python train.py --dataset t1mask_nosqrt --name t1mask_nobim --no_bim --tanh --n_epochs 30</font>\n",
    "* <font color = blue>python train.py --dataset t1mask_nosqrt --name t1mask --tanh --n_epochs 30</font>\n",
    "* <font color = blue>python train.py --dataset allmask_nosqrt --name allmask_nobim --no_bim --tanh --n_epochs 30</font>\n",
    "* <font color = blue>python train.py --dataset allmask_nosqrt --name allmask --tanh --n_epochs 30</font>\n"
   ]
  },
  {
   "cell_type": "markdown",
   "id": "7dfc5614",
   "metadata": {},
   "source": [
    "##### Retrieve data"
   ]
  },
  {
   "cell_type": "code",
   "execution_count": 3,
   "id": "a1b65052",
   "metadata": {},
   "outputs": [],
   "source": [
    "model_names = [\"nomask_nobim\", \"nomask\", \"ctmask_nobim\", \"ctmask\", \"t1mask_nobim\", \"t1mask\", \"allmask_nobim\", \"allmask\"]\n",
    "\n",
    "models, outputs = utils.retrieve_models(model_names, path_model)\n",
    "trains, vals, bevels, begens, begts = utils.retrieve_history(outputs)"
   ]
  },
  {
   "cell_type": "markdown",
   "id": "93f8df94",
   "metadata": {},
   "source": [
    "\n",
    "##### Plot"
   ]
  },
  {
   "cell_type": "raw",
   "id": "749869c5",
   "metadata": {},
   "source": [
    "fig, ax = plt.subplots(figsize = (16,8))\n",
    "x = np.linspace(0, 30, len(trains[0]))\n",
    "\n",
    "ax.plot(x, vals[0], 'r', label = 'With Mask/With BIM (Default)', linewidth = 2)#, marker = 'o', mfc = 'none')\n",
    "ax.plot(x, vals[1], 'b', label = 'With Mask/No BIM', linewidth = 2)#, marker = 'o', mfc = 'none')\n",
    "ax.plot(x, vals[2], 'g', label = 'No Mask/With BIM', linewidth = 2)#, marker = 'o', mfc = 'none')\n",
    "ax.plot(x, vals[3], 'k', label = 'No Mask/No BIM', linewidth = 2)#, marker = 'o', mfc = 'none')\n",
    "\n",
    "ax.set_title(\"Masking of non-skull pixels in the input data\\nand during backpropagation: validation curves\", fontsize = 25)\n",
    "ax.set_xlabel(\"Epochs\", fontsize = 22)\n",
    "ax.set_ylabel(\"MAE\", fontsize = 22)\n",
    "\n",
    "ax.tick_params(axis='both', which='major', labelsize=25)\n",
    "ax.set_ylim([0.08, 0.400])\n",
    "ax.set_xlim([0, 30])\n",
    "ax.legend(fontsize = 20, loc = 'upper right')\n",
    "ax.grid('on')"
   ]
  },
  {
   "cell_type": "raw",
   "id": "61ef063f",
   "metadata": {},
   "source": [
    "rows = 2\n",
    "suptitles = [\"2D UNet (256x256)\", \"3D ResNet (32x32x32)\"]\n",
    "fig, ax = plt.subplots(rows, 1, figsize = (12,10))\n",
    "x = np.linspace(0, 30, len(trains[0]))\n",
    "x2 = np.linspace(0, 60, len(trains[5]))\n",
    "\n",
    "ax[0].plot(x, vals[0], 'r', label = 'With BIM', linewidth = 3)\n",
    "ax[0].plot(x, vals[1], 'b', label = 'No BIM', linewidth = 3)\n",
    "\n",
    "ax[1].plot(x2, vals[4], 'r', label = 'With BIM', linewidth = 3)\n",
    "ax[1].plot(x2, vals[5], 'b', label = 'No BIM', linewidth = 3)\n",
    "\n",
    "xlims = [[0,30], [0,60]]\n",
    "ylims = [[0.05, 0.280], [0.06, 0.200]]\n",
    "\n",
    "for i in range(rows):\n",
    "    ax[i].set_xlabel(\"Epochs\", fontsize = 22)\n",
    "    ax[i].set_ylabel(\"Mean Absolute Error\\n(MAE)\", fontsize = 22)\n",
    "    ax[i].tick_params(axis='both', which='major', labelsize=18)\n",
    "    ax[i].set_ylim(ylims[i])\n",
    "    ax[i].set_xlim(xlims[i])\n",
    "    ax[i].legend(fontsize = 20, loc = 'upper right')    \n",
    "    ax[i].grid(\"on\")\n",
    "    ax[i].set_title(suptitles[i], fontsize=25)\n",
    "    \n",
    "fig.subplots_adjust(right=1, wspace=0, hspace=0.5)"
   ]
  },
  {
   "cell_type": "markdown",
   "id": "1b410669",
   "metadata": {},
   "source": [
    "##### Metrics (2D)"
   ]
  },
  {
   "cell_type": "raw",
   "id": "30e408e1",
   "metadata": {},
   "source": [
    "del models\n",
    "gc.collect()\n",
    "\n",
    "model_names = [\"nomask_nobim\", \"nomask\", \"ctmask_nobim\", \"ctmask\", \"t1mask_nobim\", \"t1mask\", \"allmask_nobim\", \"allmask\"]\n",
    "\n",
    "models, outputs = utils.retrieve_models(model_names, path_model)\n",
    "trains, vals, bevels, begens, begts = utils.retrieve_history(outputs)"
   ]
  },
  {
   "cell_type": "code",
   "execution_count": 4,
   "id": "1995941f",
   "metadata": {},
   "outputs": [
    {
     "name": "stderr",
     "output_type": "stream",
     "text": [
      "100%|████████████████████████████████████████████████████████████████████████████████████| 8/8 [05:56<00:00, 44.53s/it]\n"
     ]
    },
    {
     "data": {
      "text/html": [
       "<div>\n",
       "<style scoped>\n",
       "    .dataframe tbody tr th:only-of-type {\n",
       "        vertical-align: middle;\n",
       "    }\n",
       "\n",
       "    .dataframe tbody tr th {\n",
       "        vertical-align: top;\n",
       "    }\n",
       "\n",
       "    .dataframe thead th {\n",
       "        text-align: right;\n",
       "    }\n",
       "</style>\n",
       "<table border=\"1\" class=\"dataframe\">\n",
       "  <thead>\n",
       "    <tr style=\"text-align: right;\">\n",
       "      <th></th>\n",
       "      <th>MAE</th>\n",
       "      <th>$\\sigma_{MAE}$</th>\n",
       "      <th>MSE</th>\n",
       "      <th>$\\sigma_{MSE}$</th>\n",
       "      <th>PSNR</th>\n",
       "      <th>$\\sigma_{PSNR}$</th>\n",
       "      <th>SSIM</th>\n",
       "      <th>$\\sigma_{SSIM}$</th>\n",
       "    </tr>\n",
       "    <tr>\n",
       "      <th></th>\n",
       "      <th></th>\n",
       "      <th></th>\n",
       "      <th></th>\n",
       "      <th></th>\n",
       "      <th></th>\n",
       "      <th></th>\n",
       "      <th></th>\n",
       "      <th></th>\n",
       "    </tr>\n",
       "  </thead>\n",
       "  <tbody>\n",
       "    <tr>\n",
       "      <th>nomask_nobim</th>\n",
       "      <td>0.1002</td>\n",
       "      <td>0.0286</td>\n",
       "      <td>0.0394</td>\n",
       "      <td>0.0023</td>\n",
       "      <td>32.3524</td>\n",
       "      <td>5.3202</td>\n",
       "      <td>0.9555</td>\n",
       "      <td>0.0144</td>\n",
       "    </tr>\n",
       "    <tr>\n",
       "      <th>nomask</th>\n",
       "      <td>0.0943</td>\n",
       "      <td>0.0277</td>\n",
       "      <td>0.0337</td>\n",
       "      <td>0.0024</td>\n",
       "      <td>33.8989</td>\n",
       "      <td>5.4075</td>\n",
       "      <td>0.9618</td>\n",
       "      <td>0.0149</td>\n",
       "    </tr>\n",
       "    <tr>\n",
       "      <th>ctmask_nobim</th>\n",
       "      <td>0.1039</td>\n",
       "      <td>0.0315</td>\n",
       "      <td>0.0407</td>\n",
       "      <td>0.0022</td>\n",
       "      <td>32.0194</td>\n",
       "      <td>6.0939</td>\n",
       "      <td>0.9532</td>\n",
       "      <td>0.0159</td>\n",
       "    </tr>\n",
       "    <tr>\n",
       "      <th>ctmask</th>\n",
       "      <td>0.0931</td>\n",
       "      <td>0.0279</td>\n",
       "      <td>0.0345</td>\n",
       "      <td>0.0017</td>\n",
       "      <td>33.6613</td>\n",
       "      <td>5.8422</td>\n",
       "      <td>0.9655</td>\n",
       "      <td>0.0131</td>\n",
       "    </tr>\n",
       "    <tr>\n",
       "      <th>t1mask_nobim</th>\n",
       "      <td>0.1061</td>\n",
       "      <td>0.0294</td>\n",
       "      <td>0.0406</td>\n",
       "      <td>0.0017</td>\n",
       "      <td>32.0483</td>\n",
       "      <td>5.1649</td>\n",
       "      <td>0.9505</td>\n",
       "      <td>0.0148</td>\n",
       "    </tr>\n",
       "    <tr>\n",
       "      <th>t1mask</th>\n",
       "      <td>0.0986</td>\n",
       "      <td>0.0274</td>\n",
       "      <td>0.0359</td>\n",
       "      <td>0.0013</td>\n",
       "      <td>33.2566</td>\n",
       "      <td>5.3240</td>\n",
       "      <td>0.9610</td>\n",
       "      <td>0.0137</td>\n",
       "    </tr>\n",
       "    <tr>\n",
       "      <th>allmask_nobim</th>\n",
       "      <td>0.1030</td>\n",
       "      <td>0.0280</td>\n",
       "      <td>0.0396</td>\n",
       "      <td>0.0018</td>\n",
       "      <td>32.2987</td>\n",
       "      <td>5.2016</td>\n",
       "      <td>0.9513</td>\n",
       "      <td>0.0145</td>\n",
       "    </tr>\n",
       "    <tr>\n",
       "      <th>allmask</th>\n",
       "      <td>0.0978</td>\n",
       "      <td>0.0275</td>\n",
       "      <td>0.0363</td>\n",
       "      <td>0.0016</td>\n",
       "      <td>33.1490</td>\n",
       "      <td>5.3335</td>\n",
       "      <td>0.9624</td>\n",
       "      <td>0.0131</td>\n",
       "    </tr>\n",
       "  </tbody>\n",
       "</table>\n",
       "</div>"
      ],
      "text/plain": [
       "                 MAE  $\\sigma_{MAE}$    MSE  $\\sigma_{MSE}$    PSNR  \\\n",
       "                                                                      \n",
       "nomask_nobim  0.1002          0.0286 0.0394          0.0023 32.3524   \n",
       "nomask        0.0943          0.0277 0.0337          0.0024 33.8989   \n",
       "ctmask_nobim  0.1039          0.0315 0.0407          0.0022 32.0194   \n",
       "ctmask        0.0931          0.0279 0.0345          0.0017 33.6613   \n",
       "t1mask_nobim  0.1061          0.0294 0.0406          0.0017 32.0483   \n",
       "t1mask        0.0986          0.0274 0.0359          0.0013 33.2566   \n",
       "allmask_nobim 0.1030          0.0280 0.0396          0.0018 32.2987   \n",
       "allmask       0.0978          0.0275 0.0363          0.0016 33.1490   \n",
       "\n",
       "               $\\sigma_{PSNR}$   SSIM  $\\sigma_{SSIM}$  \n",
       "                                                        \n",
       "nomask_nobim            5.3202 0.9555           0.0144  \n",
       "nomask                  5.4075 0.9618           0.0149  \n",
       "ctmask_nobim            6.0939 0.9532           0.0159  \n",
       "ctmask                  5.8422 0.9655           0.0131  \n",
       "t1mask_nobim            5.1649 0.9505           0.0148  \n",
       "t1mask                  5.3240 0.9610           0.0137  \n",
       "allmask_nobim           5.2016 0.9513           0.0145  \n",
       "allmask                 5.3335 0.9624           0.0131  "
      ]
     },
     "execution_count": 4,
     "metadata": {},
     "output_type": "execute_result"
    }
   ],
   "source": [
    "dataset_nomask = np.load(path_dataset + \"nomask_nosqrt\" + \"/valid_eval.npz\")\n",
    "dataset_ct = np.load(path_dataset + \"ctmask_nosqrt\" + \"/valid_eval.npz\")\n",
    "dataset_t1 = np.load(path_dataset + \"t1mask_nosqrt\" + \"/valid_eval.npz\")\n",
    "dataset_mask = np.load(path_dataset + \"allmask_nosqrt\" + \"/valid_eval.npz\")\n",
    "datasets = [dataset_nomask, dataset_nomask, dataset_ct, dataset_ct, dataset_t1, dataset_t1, dataset_mask, dataset_mask]\n",
    "\n",
    "metrics = utils.compute_val_metrics(models, model_names, datasets, bevels, begens, begts)\n",
    "metrics"
   ]
  },
  {
   "cell_type": "raw",
   "id": "099215a1",
   "metadata": {},
   "source": [
    "# T1 only \n",
    "model_names = [\"t1mask_nobim\", \"t1mask\"]\n",
    "\n",
    "models, outputs = utils.retrieve_models(model_names, path_model)\n",
    "trains, vals, bevels, begens, begts = utils.retrieve_history(outputs)\n",
    "\n",
    "dataset_t1 = np.load(path_dataset + \"t1mask_nosqrt\" + \"/valid_eval.npz\")\n",
    "datasets = [dataset_t1, dataset_t1]\n",
    "\n",
    "metrics = utils.compute_val_metrics(models, model_names, datasets, bevels, begens, begts)\n",
    "metrics"
   ]
  },
  {
   "cell_type": "raw",
   "id": "5b3720ca",
   "metadata": {},
   "source": [
    "model_names = [\"ct_mask\", \"ct_mask_tanh_30ep\"]\n",
    "\n",
    "models, outputs = utils.retrieve_models(model_names, path_model)\n",
    "trains, vals, bevels, begens, begts = utils.retrieve_history(outputs)"
   ]
  },
  {
   "cell_type": "raw",
   "id": "3e638569",
   "metadata": {
    "scrolled": true
   },
   "source": [
    "dataset_sigmoid = np.load(path_dataset + \"ct_mask_sqrt\" + \"/valid_eval.npz\")\n",
    "dataset_tanh = np.load(path_dataset + \"ct_mask_sqrt_tanh\" + \"/valid_eval.npz\")\n",
    "\n",
    "datasets = [dataset_sigmoid, dataset_tanh]\n",
    "metrics = utils.compute_val_metrics(models, model_names, datasets, bevels, begens, begts)\n",
    "metrics"
   ]
  },
  {
   "cell_type": "raw",
   "id": "129b362a",
   "metadata": {},
   "source": [
    "source = dataset_sigmoid['x'][0:1, :, :, :]\n",
    "target = dataset_sigmoid['y'][0, :, :, 0]\n",
    "mask = dataset_sigmoid['m'][0, :, :, 0]\n",
    "\n",
    "fig, ax = plt.subplots(1,3, figsize = (15,10))\n",
    "for i in range(2):\n",
    "    if i == 1:\n",
    "        source = ( source - 0.5 ) * 2\n",
    "    print(source.shape)\n",
    "    pred = models[i].predict(source)\n",
    "    print(pred.shape)\n",
    "    ax[i].imshow( ( pred[0,:,:,0] - 1 ) * mask + 1 , cmap = \"gray\")\n",
    "    \n",
    "ax[2].imshow(target, cmap = \"gray\")"
   ]
  },
  {
   "cell_type": "raw",
   "id": "9442207f",
   "metadata": {},
   "source": [
    "with open(path_dataset + \"all_mask_sqrt\" + \"/dataset_info\", \"rb\") as f:\n",
    "    data = pickle.load(f)\n",
    "#dataset_sigmoid = pickle.load(path_dataset + \"ct_mask_sqrt\" + \"dataset_info\")\n",
    "#print(data[\"elapsed time\"])\n",
    "print(data)"
   ]
  },
  {
   "cell_type": "code",
   "execution_count": null,
   "id": "9ac46736",
   "metadata": {},
   "outputs": [],
   "source": []
  }
 ],
 "metadata": {
  "kernelspec": {
   "display_name": "Python [conda env:martinos]",
   "language": "python",
   "name": "conda-env-martinos-py"
  },
  "language_info": {
   "codemirror_mode": {
    "name": "ipython",
    "version": 3
   },
   "file_extension": ".py",
   "mimetype": "text/x-python",
   "name": "python",
   "nbconvert_exporter": "python",
   "pygments_lexer": "ipython3",
   "version": "3.9.12"
  }
 },
 "nbformat": 4,
 "nbformat_minor": 5
}
